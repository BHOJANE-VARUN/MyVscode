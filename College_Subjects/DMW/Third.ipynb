{
 "cells": [
  {
   "cell_type": "code",
   "execution_count": 13,
   "id": "d95dbd66-e8ab-4d3a-bd84-408f383362b7",
   "metadata": {},
   "outputs": [],
   "source": [
    "from collections import defaultdict\n",
    "import networkx as nx\n",
    "import matplotlib.pyplot as plt\n"
   ]
  },
  {
   "cell_type": "code",
   "execution_count": 22,
   "id": "9ea2e9df-9cff-47fd-ae3a-d59609fabbe5",
   "metadata": {},
   "outputs": [],
   "source": [
    "class FPNode:\n",
    "    def __init__(self, item, count, parent):\n",
    "        self.item = item\n",
    "        self.count = count\n",
    "        self.parent = parent\n",
    "        self.children = {}\n",
    "        self.link = None  # Used for linking nodes of the same item"
   ]
  },
  {
   "cell_type": "code",
   "execution_count": 23,
   "id": "698d6022-5d9c-4c0a-90ba-a9cf8300cab5",
   "metadata": {},
   "outputs": [],
   "source": [
    "class FPTree:\n",
    "    def __init__(self, transactions, min_support):\n",
    "        self.min_support = min_support\n",
    "        self.root = FPNode(None, 0, None)\n",
    "        self.header_table = defaultdict(lambda: None)\n",
    "        self.build_tree(transactions)\n"
   ]
  },
  {
   "cell_type": "markdown",
   "id": "4ecc5a30-e2e5-4cc6-82fb-cea3dfcd4017",
   "metadata": {},
   "source": []
  },
  {
   "cell_type": "code",
   "execution_count": 24,
   "id": "ed78d634-5a60-4b17-826b-237669c6780f",
   "metadata": {},
   "outputs": [
    {
     "name": "stdout",
     "output_type": "stream",
     "text": [
      "Item Frequencies: defaultdict(<class 'int'>, {'milk': 3, 'bread': 5, 'butter': 4, 'jam': 2})\n"
     ]
    }
   ],
   "source": [
    "def count_frequencies(transactions):\n",
    "    item_counts = defaultdict(int)\n",
    "    for transaction in transactions:\n",
    "        for item in transaction:\n",
    "            item_counts[item] += 1\n",
    "    return item_counts\n",
    "\n",
    "# Example Transactions\n",
    "data =transactions = [\n",
    "    [\"milk\", \"bread\", \"butter\"],\n",
    "    [\"bread\", \"butter\", \"jam\"],\n",
    "    [\"milk\", \"bread\", \"butter\", \"jam\"],\n",
    "    [\"bread\", \"butter\"],\n",
    "    [\"milk\", \"bread\"]\n",
    "]\n",
    "\n",
    "\n",
    "# Count Frequencies\n",
    "item_counts = count_frequencies(data)\n",
    "print(\"Item Frequencies:\", item_counts)\n"
   ]
  },
  {
   "cell_type": "markdown",
   "id": "3c2a892c-fd15-4025-8da0-0513eaf6da1a",
   "metadata": {},
   "source": [
    "#  Filter Infrequent Items"
   ]
  },
  {
   "cell_type": "code",
   "execution_count": 37,
   "id": "a2fd2652-f13d-4a1d-ad8e-ef17395655cc",
   "metadata": {},
   "outputs": [
    {
     "name": "stdout",
     "output_type": "stream",
     "text": [
      "Frequent Items: {'milk': 3, 'bread': 5, 'butter': 4, 'jam': 2}\n"
     ]
    }
   ],
   "source": [
    "min_support = 2\n",
    "freq_items = {item: count for item, count in item_counts.items() if count >= min_support}\n",
    "print(\"Frequent Items:\", freq_items)"
   ]
  },
  {
   "cell_type": "markdown",
   "id": "047b02c5-6112-419d-a4d1-3972461a747b",
   "metadata": {},
   "source": [
    "# Order Transactions Based on Frequency"
   ]
  },
  {
   "cell_type": "code",
   "execution_count": 26,
   "id": "0d8b1032-08e1-4665-96c6-547e552ceeb9",
   "metadata": {},
   "outputs": [
    {
     "name": "stdout",
     "output_type": "stream",
     "text": [
      "Ordered Transactions: [['bread', 'butter', 'milk'], ['bread', 'butter', 'jam'], ['bread', 'butter', 'milk', 'jam'], ['bread', 'butter'], ['bread', 'milk']]\n"
     ]
    }
   ],
   "source": [
    "def order_transactions(transactions, freq_items):\n",
    "    ordered_transactions = []\n",
    "    for transaction in transactions:\n",
    "        ordered = sorted([item for item in transaction if item in freq_items], key=lambda x: (-freq_items[x], x))\n",
    "        ordered_transactions.append(ordered)\n",
    "    return ordered_transactions\n",
    "\n",
    "ordered_data = order_transactions(data, freq_items)\n",
    "print(\"Ordered Transactions:\", ordered_data)"
   ]
  },
  {
   "cell_type": "code",
   "execution_count": 27,
   "id": "ed20a0c3-a67e-49eb-84bc-0abd5a93b091",
   "metadata": {},
   "outputs": [],
   "source": [
    "def insert_tree(transaction, node, header_table):\n",
    "    if not transaction:\n",
    "        return\n",
    "    first_item = transaction[0]\n",
    "    if first_item in node.children:\n",
    "        node.children[first_item].count += 1\n",
    "    else:\n",
    "        node.children[first_item] = FPNode(first_item, 1, node)\n",
    "        # Link header table\n",
    "        if header_table[first_item] is None:\n",
    "            header_table[first_item] = node.children[first_item]\n",
    "        else:\n",
    "            current = header_table[first_item]\n",
    "            while current.link is not None:\n",
    "                current = current.link\n",
    "            current.link = node.children[first_item]\n",
    "    \n",
    "    # Recursively insert remaining items\n",
    "    insert_tree(transaction[1:], node.children[first_item], header_table)\n"
   ]
  },
  {
   "cell_type": "code",
   "execution_count": 29,
   "id": "102e4955-5d1a-4e69-ab1e-8d6a14be1216",
   "metadata": {},
   "outputs": [
    {
     "name": "stdout",
     "output_type": "stream",
     "text": [
      "FP-Tree Construction Complete\n"
     ]
    }
   ],
   "source": [
    "header_table = defaultdict(lambda: None)\n",
    "root = FPNode(None, 0, None)\n",
    "\n",
    "for transaction in ordered_data:\n",
    "    insert_tree(transaction, root, header_table)\n",
    "print(\"FP-Tree Construction Complete\")"
   ]
  },
  {
   "cell_type": "code",
   "execution_count": 35,
   "id": "6ac7ae1a-4f9b-456d-b2e2-06e5cbe8e5d1",
   "metadata": {},
   "outputs": [],
   "source": [
    "def build_graph(node, G, labels):\n",
    "    if node.item is not None:\n",
    "        labels[node.item] = f\"{node.item} ({node.count})\"\n",
    "    for child in node.children.values():\n",
    "        G.add_edge(node.item if node.item else \"Root\", child.item)\n",
    "        build_graph(child, G, labels)\n",
    "\n",
    "def visualize_tree(root):\n",
    "    G = nx.DiGraph()\n",
    "    labels = {}\n",
    "    build_graph(root, G, labels)\n",
    "    plt.figure(figsize=(8, 6))\n",
    "    pos = nx.spring_layout(G)\n",
    "    nx.draw(G, pos, with_labels=True, labels=labels, node_size=2000, node_color=\"lightblue\")\n",
    "    plt.show()"
   ]
  },
  {
   "cell_type": "code",
   "execution_count": 34,
   "id": "f91c3c55-e8d1-476a-bff4-5006145b1c58",
   "metadata": {},
   "outputs": [
    {
     "name": "stdout",
     "output_type": "stream",
     "text": [
      "FP-Tree Structure:\n",
      "  bread (5)\n",
      "    butter (4)\n",
      "      milk (2)\n",
      "        jam (1)\n",
      "      jam (1)\n",
      "    milk (1)\n"
     ]
    }
   ],
   "source": [
    "def print_tree(node, indent=0):\n",
    "    if node.item is not None:\n",
    "        print('  ' * indent + f\"{node.item} ({node.count})\")\n",
    "    for child in node.children.values():\n",
    "        print_tree(child, indent + 1)\n",
    "\n",
    "\n",
    "print(\"FP-Tree Structure:\")\n",
    "print_tree(root)"
   ]
  }
 ],
 "metadata": {
  "kernelspec": {
   "display_name": "Python 3 (ipykernel)",
   "language": "python",
   "name": "python3"
  },
  "language_info": {
   "codemirror_mode": {
    "name": "ipython",
    "version": 3
   },
   "file_extension": ".py",
   "mimetype": "text/x-python",
   "name": "python",
   "nbconvert_exporter": "python",
   "pygments_lexer": "ipython3",
   "version": "3.11.7"
  },
  "widgets": {
   "application/vnd.jupyter.widget-state+json": {
    "state": {},
    "version_major": 2,
    "version_minor": 0
   }
  }
 },
 "nbformat": 4,
 "nbformat_minor": 5
}
