{
 "cells": [
  {
   "cell_type": "code",
   "execution_count": 19,
   "metadata": {},
   "outputs": [],
   "source": [
    "import pickle\n",
    "def check_location(location):\n",
    "    if location == \"yeola\":\n",
    "        return False, False, False\n",
    "    elif location == \"kopargaon\":\n",
    "        return True, False, False\n",
    "    elif location == \"pune\":\n",
    "        return False, True, False\n",
    "    elif location == \"shirdi\":\n",
    "        return False, False, True\n",
    "    else: return 0\n",
    "def convert_time(seconds):\n",
    "    hours = seconds // 3600\n",
    "    minutes = (seconds % 3600) // 60\n",
    "    seconds = seconds % 60\n",
    "    return hours, minutes, seconds\n",
    "\n",
    "def predictor(time,flowbit,startingstart):\n",
    "    with open('bus_model', 'rb') as file:\n",
    "        model = pickle.load(file)\n",
    "    a,b,c = check_location(startingstart)\n",
    "    ans =  model.predict([[time,flowbit,a,b,c]])\n",
    "    return convert_time(ans)\n",
    "    "
   ]
  },
  {
   "cell_type": "code",
   "execution_count": 21,
   "metadata": {},
   "outputs": [
    {
     "name": "stderr",
     "output_type": "stream",
     "text": [
      "c:\\Users\\Hp\\AppData\\Local\\Programs\\Python\\Python311\\Lib\\site-packages\\sklearn\\base.py:493: UserWarning: X does not have valid feature names, but LinearRegression was fitted with feature names\n",
      "  warnings.warn(\n"
     ]
    },
    {
     "data": {
      "text/plain": [
       "(array([12.]), array([41.]), array([24.62008734]))"
      ]
     },
     "execution_count": 21,
     "metadata": {},
     "output_type": "execute_result"
    }
   ],
   "source": [
    "predictor(33022,1,\"shirdi\")\n",
    "# use yeola kopargaon shirdi pune : this spelling correctly\n",
    "# second attribute is bit that determines flow\n",
    "# first attribute is time in seconds covert the time by using your DSA skills "
   ]
  }
 ],
 "metadata": {
  "kernelspec": {
   "display_name": "Python 3",
   "language": "python",
   "name": "python3"
  },
  "language_info": {
   "codemirror_mode": {
    "name": "ipython",
    "version": 3
   },
   "file_extension": ".py",
   "mimetype": "text/x-python",
   "name": "python",
   "nbconvert_exporter": "python",
   "pygments_lexer": "ipython3",
   "version": "3.11.0"
  }
 },
 "nbformat": 4,
 "nbformat_minor": 2
}
