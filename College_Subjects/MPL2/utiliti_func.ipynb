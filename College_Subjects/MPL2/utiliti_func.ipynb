{
 "cells": [
  {
   "cell_type": "code",
   "execution_count": 2,
   "metadata": {},
   "outputs": [
    {
     "name": "stdout",
     "output_type": "stream",
     "text": [
      "shirdi is on the way of the bus route from yeola to pune.\n"
     ]
    },
    {
     "data": {
      "text/plain": [
       "True"
      ]
     },
     "execution_count": 2,
     "metadata": {},
     "output_type": "execute_result"
    }
   ],
   "source": [
    "def check_bus_route(source, destination, location):\n",
    "    # Dictionary mapping locations to their corresponding positions\n",
    "    locations = {\n",
    "        \"yeola\": 1,\n",
    "        \"kopargoan\": 2,\n",
    "        \"shirdi\": 3,\n",
    "        \"pune\": 4\n",
    "    }\n",
    "    \n",
    "    # Check if the source and destination are valid locations\n",
    "    if source not in locations or destination not in locations:\n",
    "        print(\"Invalid source or destination\")\n",
    "        return False\n",
    "    \n",
    "    # Get the position of source and destination\n",
    "    source_pos = locations[source]\n",
    "    destination_pos = locations[destination]\n",
    "    \n",
    "    # Get the position of the location to be checked\n",
    "    location_pos = locations.get(location)\n",
    "    \n",
    "    # Check if the location is in the way of the bus route\n",
    "    if location_pos is None:\n",
    "        print(f\"{location} is not on the bus route.\")\n",
    "        return False\n",
    "    elif (source_pos <= location_pos <= destination_pos) or (destination_pos <= location_pos <= source_pos):\n",
    "        print(f\"{location} is on the way of the bus route from {source} to {destination}.\")\n",
    "        return True\n",
    "    else:\n",
    "        print(f\"{location} is not on the way of the bus route from {source} to {destination}.\")\n",
    "        return False\n",
    "\n",
    "# Example usage:\n",
    "source = \"yeola\"\n",
    "destination = \"pune\"\n",
    "location = \"shirdi\"\n",
    "check_bus_route(source, destination, location)\n"
   ]
  },
  {
   "cell_type": "code",
   "execution_count": 3,
   "metadata": {},
   "outputs": [
    {
     "name": "stdout",
     "output_type": "stream",
     "text": [
      "(2, 46, 40)\n"
     ]
    },
    {
     "data": {
      "text/plain": [
       "(4, 23, 55)"
      ]
     },
     "execution_count": 3,
     "metadata": {},
     "output_type": "execute_result"
    }
   ],
   "source": [
    "def convert_time(seconds):\n",
    "    hours = seconds // 3600\n",
    "    minutes = (seconds % 3600) // 60\n",
    "    seconds = seconds % 60\n",
    "    return hours, minutes, seconds\n",
    "print(convert_time(10000))\n",
    "convert_time(15835)"
   ]
  },
  {
   "cell_type": "code",
   "execution_count": 15,
   "metadata": {},
   "outputs": [
    {
     "name": "stderr",
     "output_type": "stream",
     "text": [
      "c:\\Users\\Hp\\AppData\\Local\\Programs\\Python\\Python311\\Lib\\site-packages\\sklearn\\base.py:493: UserWarning: X does not have valid feature names, but LinearRegression was fitted with feature names\n",
      "  warnings.warn(\n"
     ]
    },
    {
     "data": {
      "text/plain": [
       "15835.904842705058"
      ]
     },
     "execution_count": 15,
     "metadata": {},
     "output_type": "execute_result"
    }
   ],
   "source": [
    "import pickle\n",
    "def check_location(location):\n",
    "    if location == \"yeola\":\n",
    "        return False, False, False\n",
    "    elif location == \"kopargaon\":\n",
    "        return True, False, False\n",
    "    elif location == \"pune\":\n",
    "        return False, True, False\n",
    "    elif location == \"shirdi\":\n",
    "        return False, False, True\n",
    "    else: return 0\n",
    "\n",
    "def predictor(time,flowbit,startingstart):\n",
    "    with open('bus_model', 'rb') as file:\n",
    "        model = pickle.load(file)\n",
    "    a,b,c = check_location(startingstart)\n",
    "    ans =  model.predict([[time,flowbit,a,b,c]])[0]\n",
    "    return ans\n",
    "predictor(10000,0,\"kopargaon\")"
   ]
  },
  {
   "cell_type": "code",
   "execution_count": 5,
   "metadata": {},
   "outputs": [
    {
     "name": "stdout",
     "output_type": "stream",
     "text": [
      "True\n"
     ]
    }
   ],
   "source": [
    "def check_bus_route(source, order, destination):\n",
    "    # Define the list of locations in the desired order\n",
    "    locations = [\"yeola\", \"kopargoan\", \"shirdi\", \"pune\"]\n",
    "\n",
    "    # Find the index of the source location in the list\n",
    "    source_index = locations.index(source)\n",
    "\n",
    "    # Check if the order is 0 (search to the right of source) or 1 (search to the left of source)\n",
    "    if order == 0:\n",
    "        # Check if the destination is to the right of the source\n",
    "        if destination in locations[source_index + 1:]:\n",
    "            return True\n",
    "    elif order == 1:\n",
    "        # Check if the destination is to the left of the source\n",
    "        if destination in locations[:source_index]:\n",
    "            return True\n",
    "\n",
    "    # If destination is not found in the specified direction, return False\n",
    "    return False\n",
    "\n",
    "# Example usage:\n",
    "source = \"yeola\"\n",
    "order = 0  # 0 for searching to the right, 1 for searching to the left\n",
    "destination = \"pune\"\n",
    "print(check_bus_route(source, order, destination))\n"
   ]
  },
  {
   "cell_type": "code",
   "execution_count": 17,
   "metadata": {},
   "outputs": [
    {
     "name": "stdout",
     "output_type": "stream",
     "text": [
      "(2, 46, 40)\n",
      "yeola\n",
      "Predicted time of arrival at kopargaon (right of yeola): 35580.75750087658\n",
      "Predicted time of arrival at shirdi (right of kopargaon): 42257.48207333554\n",
      "Predicted time of arrival at pune (right of shirdi): 58224.65610729623\n"
     ]
    },
    {
     "name": "stderr",
     "output_type": "stream",
     "text": [
      "c:\\Users\\Hp\\AppData\\Local\\Programs\\Python\\Python311\\Lib\\site-packages\\sklearn\\base.py:493: UserWarning: X does not have valid feature names, but LinearRegression was fitted with feature names\n",
      "  warnings.warn(\n",
      "c:\\Users\\Hp\\AppData\\Local\\Programs\\Python\\Python311\\Lib\\site-packages\\sklearn\\base.py:493: UserWarning: X does not have valid feature names, but LinearRegression was fitted with feature names\n",
      "  warnings.warn(\n",
      "c:\\Users\\Hp\\AppData\\Local\\Programs\\Python\\Python311\\Lib\\site-packages\\sklearn\\base.py:493: UserWarning: X does not have valid feature names, but LinearRegression was fitted with feature names\n",
      "  warnings.warn(\n"
     ]
    },
    {
     "data": {
      "text/plain": [
       "{'kopargaon': 35580.75750087658,\n",
       " 'shirdi': 42257.48207333554,\n",
       " 'pune': 58224.65610729623}"
      ]
     },
     "execution_count": 17,
     "metadata": {},
     "output_type": "execute_result"
    }
   ],
   "source": [
    "def predict_time_to_destination(source, destination, initial_time, initial_flowbit):\n",
    "    locations = [\"yeola\", \"kopargaon\", \"shirdi\", \"pune\"]\n",
    "    ls = {}\n",
    "    current_location = source\n",
    "    current_time = initial_time\n",
    "    current_flowbit = initial_flowbit\n",
    "    \n",
    "    if current_flowbit == 0:\n",
    "        next_index = locations.index(source) + 1\n",
    "        direction = \"right\"\n",
    "    elif current_flowbit == 1:\n",
    "        next_index = locations.index(source) - 1\n",
    "        direction = \"left\"\n",
    "    print(current_location)\n",
    "    while current_location != destination:\n",
    "        next_location = locations[next_index]\n",
    "        prediction = predictor(current_time, current_flowbit, current_location)\n",
    "        ls[next_location] = prediction\n",
    "        print(f\"Predicted time of arrival at {next_location} ({direction} of {current_location}): {prediction}\")\n",
    "        \n",
    "       \n",
    "        current_location = next_location\n",
    "        current_time = prediction\n",
    "        if initial_flowbit == 0:\n",
    "            next_index += 1\n",
    "        elif initial_flowbit == 1:\n",
    "            next_index -= 1\n",
    "        \n",
    "        if next_index < 0 or next_index >= len(locations):\n",
    "            break\n",
    "    return ls\n",
    "\n",
    "print(convert_time(10000))\n",
    "predict_time_to_destination(\"yeola\",\"pune\",33000,0)\n"
   ]
  },
  {
   "cell_type": "code",
   "execution_count": 7,
   "metadata": {},
   "outputs": [
    {
     "name": "stdout",
     "output_type": "stream",
     "text": [
      "Flowbit: 0\n"
     ]
    }
   ],
   "source": [
    "def get_flowbit(source, destination):\n",
    "    locations = [\"yeola\", \"kopargaon\", \"shirdi\", \"pune\"]\n",
    "\n",
    "    # Check if source and destination are valid locations\n",
    "    if source not in locations or destination not in locations:\n",
    "        print(\"Invalid source or destination\")\n",
    "        return None\n",
    "\n",
    "    # Get indices of source and destination\n",
    "    source_index = locations.index(source)\n",
    "    destination_index = locations.index(destination)\n",
    "\n",
    "    # Determine the direction of travel based on indices\n",
    "    if destination_index > source_index:\n",
    "        return 0  # Traveling towards the right\n",
    "    elif destination_index < source_index:\n",
    "        return 1  # Traveling towards the left\n",
    "    else:\n",
    "        return None  # Source and destination are the same\n",
    "\n",
    "# Example usage:\n",
    "source = \"yeola\"\n",
    "destination = \"pune\"\n",
    "flowbit = get_flowbit(source, destination)\n",
    "print(\"Flowbit:\", flowbit)\n"
   ]
  }
 ],
 "metadata": {
  "kernelspec": {
   "display_name": "Python 3",
   "language": "python",
   "name": "python3"
  },
  "language_info": {
   "codemirror_mode": {
    "name": "ipython",
    "version": 3
   },
   "file_extension": ".py",
   "mimetype": "text/x-python",
   "name": "python",
   "nbconvert_exporter": "python",
   "pygments_lexer": "ipython3",
   "version": "3.11.0"
  }
 },
 "nbformat": 4,
 "nbformat_minor": 2
}
